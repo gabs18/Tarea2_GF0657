{
 "cells": [
  {
   "cell_type": "markdown",
   "metadata": {},
   "source": [
    "# Tarea 2: Gráficos estadísticos interactivos con plotly\n",
    "## Tema: Desastres en Nicaragua (1992-2013)"
   ]
  },
  {
   "cell_type": "markdown",
   "metadata": {},
   "source": [
    "### Introducción\n",
    "La base de datos _DesInventar_ recopila noticias sobre desastres por amenazas naturales o antropogénicas en América Latina. Específicamente, el \"desarrollo de DesInventar, con una concepción que permite ver a los desastres desde una escala espacial local (municipio o equivalente),facilita diálogos para gestión de riesgos entre actores e instituciones y sectores, y con gobiernos provinciales y nacionales\" ([DesInventar](https://www.desinventar.org/), 2020). Para este ejercicio, se utilizará la base de datos de ocurrencia de desastres para Nicaragua entre 1992 y 2013. \n",
    "\n",
    "**Objetivos:**\n",
    "1. Crear un gráfico interactivo que muestre la tendencia temporal de los desastres en Nicaragua.\n",
    "2. Realizar un gráfico interactivo de los 10 municipios con más desastres a lo largo del tiempo. \n",
    "3. Graficar interactivamente la distribución de los 10 desastres más comunes."
   ]
  },
  {
   "cell_type": "markdown",
   "metadata": {},
   "source": [
    "-----------"
   ]
  },
  {
   "cell_type": "markdown",
   "metadata": {},
   "source": [
    "## Carga de paquetes"
   ]
  },
  {
   "cell_type": "code",
   "execution_count": 1,
   "metadata": {},
   "outputs": [],
   "source": [
    "# Carga de pandas con el alias pd\n",
    "import pandas as pd\n",
    "\n",
    "# Carga de plotly.express con el alias px\n",
    "import plotly.express as px\n",
    "\n",
    "# Carga de plotly.graph_objects con el alias go\n",
    "import plotly.graph_objects as go\n",
    "\n",
    "# Configuración de pandas para mostrar separadores de miles y 2 dígitos decimales\n",
    "pd.set_option('display.float_format', '{:,.0f}'.format)"
   ]
  },
  {
   "cell_type": "markdown",
   "metadata": {},
   "source": [
    "<p>"
   ]
  },
  {
   "cell_type": "markdown",
   "metadata": {},
   "source": [
    "## Carga de datos desde el repositorio en GitHub"
   ]
  },
  {
   "cell_type": "code",
   "execution_count": 2,
   "metadata": {},
   "outputs": [
    {
     "data": {
      "text/html": [
       "<div>\n",
       "<style scoped>\n",
       "    .dataframe tbody tr th:only-of-type {\n",
       "        vertical-align: middle;\n",
       "    }\n",
       "\n",
       "    .dataframe tbody tr th {\n",
       "        vertical-align: top;\n",
       "    }\n",
       "\n",
       "    .dataframe thead th {\n",
       "        text-align: right;\n",
       "    }\n",
       "</style>\n",
       "<table border=\"1\" class=\"dataframe\">\n",
       "  <thead>\n",
       "    <tr style=\"text-align: right;\">\n",
       "      <th></th>\n",
       "      <th>Año</th>\n",
       "      <th>Evento</th>\n",
       "      <th>ADM1_CODE</th>\n",
       "      <th>ADM1</th>\n",
       "      <th>ADM2_CODE</th>\n",
       "      <th>ADM2</th>\n",
       "      <th>LUGAR</th>\n",
       "      <th>Fecha</th>\n",
       "      <th>Observaciones</th>\n",
       "      <th>Causa</th>\n",
       "      <th>...</th>\n",
       "      <th>Viviendas Afectadas</th>\n",
       "      <th>Damnificados</th>\n",
       "      <th>Afectados</th>\n",
       "      <th>Reubicados</th>\n",
       "      <th>Evacuados</th>\n",
       "      <th>Pérdidas $USD</th>\n",
       "      <th>Pérdidas $Local</th>\n",
       "      <th>Centros Educativos</th>\n",
       "      <th>Centros Médicos</th>\n",
       "      <th>Daños cultivos Ha</th>\n",
       "    </tr>\n",
       "    <tr>\n",
       "      <th>Serial</th>\n",
       "      <th></th>\n",
       "      <th></th>\n",
       "      <th></th>\n",
       "      <th></th>\n",
       "      <th></th>\n",
       "      <th></th>\n",
       "      <th></th>\n",
       "      <th></th>\n",
       "      <th></th>\n",
       "      <th></th>\n",
       "      <th></th>\n",
       "      <th></th>\n",
       "      <th></th>\n",
       "      <th></th>\n",
       "      <th></th>\n",
       "      <th></th>\n",
       "      <th></th>\n",
       "      <th></th>\n",
       "      <th></th>\n",
       "      <th></th>\n",
       "      <th></th>\n",
       "    </tr>\n",
       "  </thead>\n",
       "  <tbody>\n",
       "    <tr>\n",
       "      <th>2013-00146</th>\n",
       "      <td>2,013</td>\n",
       "      <td>FLOOD</td>\n",
       "      <td>16</td>\n",
       "      <td>RAAS</td>\n",
       "      <td>1,608</td>\n",
       "      <td>Bluefields</td>\n",
       "      <td>Comunidad San Sebastián en Caño Negro. Barrios...</td>\n",
       "      <td>2013/7/22</td>\n",
       "      <td>Tres casas colapsaron e el centro de la ciudad...</td>\n",
       "      <td>RAIN</td>\n",
       "      <td>...</td>\n",
       "      <td>7</td>\n",
       "      <td>15</td>\n",
       "      <td>95</td>\n",
       "      <td>NaN</td>\n",
       "      <td>NaN</td>\n",
       "      <td>NaN</td>\n",
       "      <td>NaN</td>\n",
       "      <td>NaN</td>\n",
       "      <td>NaN</td>\n",
       "      <td>NaN</td>\n",
       "    </tr>\n",
       "    <tr>\n",
       "      <th>2011-00053</th>\n",
       "      <td>2,011</td>\n",
       "      <td>FLOOD</td>\n",
       "      <td>1</td>\n",
       "      <td>Nueva Segovia</td>\n",
       "      <td>106</td>\n",
       "      <td>Dipilto</td>\n",
       "      <td>Río Murra</td>\n",
       "      <td>2011/10/4</td>\n",
       "      <td>Dos personas murieron, arrastradas por las cor...</td>\n",
       "      <td>OVERFLOW</td>\n",
       "      <td>...</td>\n",
       "      <td>NaN</td>\n",
       "      <td>NaN</td>\n",
       "      <td>NaN</td>\n",
       "      <td>NaN</td>\n",
       "      <td>NaN</td>\n",
       "      <td>NaN</td>\n",
       "      <td>NaN</td>\n",
       "      <td>NaN</td>\n",
       "      <td>NaN</td>\n",
       "      <td>NaN</td>\n",
       "    </tr>\n",
       "    <tr>\n",
       "      <th>2012-00098</th>\n",
       "      <td>2,012</td>\n",
       "      <td>SPATE</td>\n",
       "      <td>14</td>\n",
       "      <td>Matagalpa</td>\n",
       "      <td>1,402</td>\n",
       "      <td>Río Blanco</td>\n",
       "      <td>Carretera de Río Blanco hacia Mulukukú, sector...</td>\n",
       "      <td>2012/10/21</td>\n",
       "      <td>Buses y camiones de transporte y de carga en h...</td>\n",
       "      <td>RAIN</td>\n",
       "      <td>...</td>\n",
       "      <td>NaN</td>\n",
       "      <td>NaN</td>\n",
       "      <td>NaN</td>\n",
       "      <td>NaN</td>\n",
       "      <td>NaN</td>\n",
       "      <td>NaN</td>\n",
       "      <td>NaN</td>\n",
       "      <td>NaN</td>\n",
       "      <td>NaN</td>\n",
       "      <td>NaN</td>\n",
       "    </tr>\n",
       "    <tr>\n",
       "      <th>2000-00055</th>\n",
       "      <td>2,000</td>\n",
       "      <td>RAIN</td>\n",
       "      <td>5</td>\n",
       "      <td>León</td>\n",
       "      <td>502</td>\n",
       "      <td>El Sauce</td>\n",
       "      <td>En la comunidad El Jocotal</td>\n",
       "      <td>2000/10/3</td>\n",
       "      <td>Los datos de damnificados se dedujo de multipl...</td>\n",
       "      <td>Huracán</td>\n",
       "      <td>...</td>\n",
       "      <td>NaN</td>\n",
       "      <td>5</td>\n",
       "      <td>NaN</td>\n",
       "      <td>NaN</td>\n",
       "      <td>NaN</td>\n",
       "      <td>NaN</td>\n",
       "      <td>NaN</td>\n",
       "      <td>NaN</td>\n",
       "      <td>NaN</td>\n",
       "      <td>NaN</td>\n",
       "    </tr>\n",
       "    <tr>\n",
       "      <th>1996-00004</th>\n",
       "      <td>1,996</td>\n",
       "      <td>EPIDEMIC</td>\n",
       "      <td>14</td>\n",
       "      <td>Matagalpa</td>\n",
       "      <td>1,408</td>\n",
       "      <td>Matiguas</td>\n",
       "      <td>Municipio de Matiguás.</td>\n",
       "      <td>1996/1/12</td>\n",
       "      <td>Pobladores del Municipio de Matiguás, toman ag...</td>\n",
       "      <td>CONTAMINATION</td>\n",
       "      <td>...</td>\n",
       "      <td>NaN</td>\n",
       "      <td>NaN</td>\n",
       "      <td>NaN</td>\n",
       "      <td>NaN</td>\n",
       "      <td>NaN</td>\n",
       "      <td>NaN</td>\n",
       "      <td>NaN</td>\n",
       "      <td>NaN</td>\n",
       "      <td>NaN</td>\n",
       "      <td>NaN</td>\n",
       "    </tr>\n",
       "  </tbody>\n",
       "</table>\n",
       "<p>5 rows × 30 columns</p>\n",
       "</div>"
      ],
      "text/plain": [
       "             Año    Evento  ADM1_CODE           ADM1  ADM2_CODE        ADM2  \\\n",
       "Serial                                                                        \n",
       "2013-00146 2,013     FLOOD         16           RAAS      1,608  Bluefields   \n",
       "2011-00053 2,011     FLOOD          1  Nueva Segovia        106     Dipilto   \n",
       "2012-00098 2,012     SPATE         14      Matagalpa      1,402  Río Blanco   \n",
       "2000-00055 2,000      RAIN          5           León        502    El Sauce   \n",
       "1996-00004 1,996  EPIDEMIC         14      Matagalpa      1,408    Matiguas   \n",
       "\n",
       "                                                        LUGAR       Fecha  \\\n",
       "Serial                                                                      \n",
       "2013-00146  Comunidad San Sebastián en Caño Negro. Barrios...   2013/7/22   \n",
       "2011-00053                                          Río Murra   2011/10/4   \n",
       "2012-00098  Carretera de Río Blanco hacia Mulukukú, sector...  2012/10/21   \n",
       "2000-00055                         En la comunidad El Jocotal   2000/10/3   \n",
       "1996-00004                             Municipio de Matiguás.   1996/1/12   \n",
       "\n",
       "                                                Observaciones          Causa  \\\n",
       "Serial                                                                         \n",
       "2013-00146  Tres casas colapsaron e el centro de la ciudad...           RAIN   \n",
       "2011-00053  Dos personas murieron, arrastradas por las cor...       OVERFLOW   \n",
       "2012-00098  Buses y camiones de transporte y de carga en h...           RAIN   \n",
       "2000-00055  Los datos de damnificados se dedujo de multipl...        Huracán   \n",
       "1996-00004  Pobladores del Municipio de Matiguás, toman ag...  CONTAMINATION   \n",
       "\n",
       "            ... Viviendas Afectadas Damnificados Afectados  Reubicados  \\\n",
       "Serial      ...                                                          \n",
       "2013-00146  ...                   7           15        95         NaN   \n",
       "2011-00053  ...                 NaN          NaN       NaN         NaN   \n",
       "2012-00098  ...                 NaN          NaN       NaN         NaN   \n",
       "2000-00055  ...                 NaN            5       NaN         NaN   \n",
       "1996-00004  ...                 NaN          NaN       NaN         NaN   \n",
       "\n",
       "           Evacuados  Pérdidas $USD  Pérdidas $Local  Centros Educativos  \\\n",
       "Serial                                                                     \n",
       "2013-00146       NaN            NaN              NaN                 NaN   \n",
       "2011-00053       NaN            NaN              NaN                 NaN   \n",
       "2012-00098       NaN            NaN              NaN                 NaN   \n",
       "2000-00055       NaN            NaN              NaN                 NaN   \n",
       "1996-00004       NaN            NaN              NaN                 NaN   \n",
       "\n",
       "            Centros Médicos  Daños cultivos Ha  \n",
       "Serial                                          \n",
       "2013-00146              NaN                NaN  \n",
       "2011-00053              NaN                NaN  \n",
       "2012-00098              NaN                NaN  \n",
       "2000-00055              NaN                NaN  \n",
       "1996-00004              NaN                NaN  \n",
       "\n",
       "[5 rows x 30 columns]"
      ]
     },
     "execution_count": 2,
     "metadata": {},
     "output_type": "execute_result"
    }
   ],
   "source": [
    "# Carga de datos en el dataframe 'desastres' con la base de datos de DesInventar\n",
    "desastres = pd.read_csv(\"https://raw.githubusercontent.com/gabs18/Tarea2_GF0657/refs/heads/main/DESINVENTAR_NICARAGUA.csv\", sep=\";\")\n",
    "\n",
    "# Emplear la columna 'Serial' como el índice único\n",
    "desastres.set_index('Serial', inplace=True)\n",
    "\n",
    "# Despliegue de una muestra aleatoria de 5 filas\n",
    "desastres.sample(5)"
   ]
  },
  {
   "cell_type": "markdown",
   "metadata": {},
   "source": [
    "<p>"
   ]
  },
  {
   "cell_type": "markdown",
   "metadata": {},
   "source": [
    "## Gráficos"
   ]
  },
  {
   "cell_type": "markdown",
   "metadata": {},
   "source": [
    "### Línea temporal de desastres en Nicaragua: **gráfico de línea**"
   ]
  },
  {
   "cell_type": "code",
   "execution_count": 3,
   "metadata": {},
   "outputs": [
    {
     "name": "stdout",
     "output_type": "stream",
     "text": [
      "     Año  total_desastres\n",
      "0  1,992               33\n",
      "1  1,993               34\n",
      "2  1,994               23\n",
      "3  1,995               46\n",
      "4  1,996               68\n",
      "5  1,997               31\n",
      "6  1,998               49\n",
      "7  1,999               55\n",
      "8  2,000               61\n",
      "9  2,001               70\n",
      "10 2,002               29\n",
      "11 2,003               46\n",
      "12 2,004               29\n",
      "13 2,005               50\n",
      "14 2,006               17\n",
      "15 2,007               95\n",
      "16 2,008              115\n",
      "17 2,009               54\n",
      "18 2,010               81\n",
      "19 2,011               65\n",
      "20 2,012              115\n",
      "21 2,013              232\n"
     ]
    }
   ],
   "source": [
    "# Contar los desastres por año\n",
    "def contar_desastres_por_anio(desastres):\n",
    "    # Agrupar por 'año' y contar el número de desastres en cada año\n",
    "    conteo_desastres = desastres.groupby('Año').size().reset_index(name='total_desastres')\n",
    "    # Ordenar por año para mejorar la visualización\n",
    "    conteo_desastres = conteo_desastres.sort_values(by='Año')\n",
    "    return conteo_desastres\n",
    "\n",
    "# Ejecutar la función\n",
    "conteo_desastres_anio = contar_desastres_por_anio(desastres)\n",
    "print(conteo_desastres_anio)"
   ]
  },
  {
   "cell_type": "code",
   "execution_count": 4,
   "metadata": {},
   "outputs": [
    {
     "data": {
      "application/vnd.plotly.v1+json": {
       "config": {
        "plotlyServerURL": "https://plot.ly"
       },
       "data": [
        {
         "hovertemplate": "Año=%{x}<br>Cantidad de desastres=%{y}<extra></extra>",
         "legendgroup": "",
         "line": {
          "color": "#1F77B4",
          "dash": "solid"
         },
         "marker": {
          "symbol": "circle"
         },
         "mode": "lines+markers",
         "name": "",
         "orientation": "v",
         "showlegend": false,
         "type": "scatter",
         "x": [
          1992,
          1993,
          1994,
          1995,
          1996,
          1997,
          1998,
          1999,
          2000,
          2001,
          2002,
          2003,
          2004,
          2005,
          2006,
          2007,
          2008,
          2009,
          2010,
          2011,
          2012,
          2013
         ],
         "xaxis": "x",
         "y": [
          33,
          34,
          23,
          46,
          68,
          31,
          49,
          55,
          61,
          70,
          29,
          46,
          29,
          50,
          17,
          95,
          115,
          54,
          81,
          65,
          115,
          232
         ],
         "yaxis": "y"
        }
       ],
       "layout": {
        "legend": {
         "tracegroupgap": 0
        },
        "template": {
         "data": {
          "pie": [
           {
            "automargin": true,
            "type": "pie"
           }
          ]
         },
         "layout": {
          "yaxis": {
           "showgrid": false
          }
         }
        },
        "title": {
         "font": {
          "size": 20
         },
         "text": "Evolución temporal de desastres por año en Nicaragua",
         "x": 0.5
        },
        "xaxis": {
         "anchor": "y",
         "domain": [
          0,
          1
         ],
         "gridcolor": "lightgray",
         "gridwidth": 0.5,
         "showgrid": true,
         "title": {
          "text": "Año"
         }
        },
        "yaxis": {
         "anchor": "x",
         "domain": [
          0,
          1
         ],
         "gridcolor": "lightgray",
         "gridwidth": 0.5,
         "showgrid": true,
         "title": {
          "text": "Cantidad de desastres"
         }
        }
       }
      }
     },
     "metadata": {},
     "output_type": "display_data"
    }
   ],
   "source": [
    "# Crear gráfico de líneas para mostrar la evolución temporal\n",
    "fig = px.line(conteo_desastres_anio, x='Año', y='total_desastres',\n",
    "              title='Evolución temporal de desastres por año en Nicaragua',\n",
    "              template='ygridoff',\n",
    "              labels={'año': 'Año', 'total_desastres': 'Cantidad de desastres'}, \n",
    "              markers=True)\n",
    "\n",
    "# Atributos de visualización de la figura\n",
    "fig.update_layout(\n",
    "    title=dict(\n",
    "        x=0.5,  # Centrar el título\n",
    "        font=dict(size=20)),\n",
    "    xaxis=dict(showgrid=True, gridwidth=0.5, gridcolor='lightgray'),\n",
    "    yaxis=dict(showgrid=True, gridwidth=0.5, gridcolor='lightgray')\n",
    ")\n",
    "\n",
    "fig.show()"
   ]
  },
  {
   "cell_type": "markdown",
   "metadata": {},
   "source": [
    "El gráfico anterior muestra la evolución de cantidad de desastres registrados entre 1992 y 2013 para Nicaraguaa nivel nacional. Se logra evidenciar un patrón de aumento de desastres a partir del año 2007. De hecho, el 30 de mayo del 2008 la tormenta tropical Alma impactó el territorio nicaragüense cerca de la ciudad de León y afectó los departamentos: León Chinandega, Managua, Masaya, Carazo, Granada y Rivas (OCHA, 2008). El 2013 se registraron hasta 232 desastres, y que el que dio más afectación fue una contaminación de una planta de agua potable: 50.000 personas fueron afectadas según la base de datos DesInventar."
   ]
  },
  {
   "cell_type": "markdown",
   "metadata": {},
   "source": [
    "<p>"
   ]
  },
  {
   "cell_type": "markdown",
   "metadata": {},
   "source": [
    "### Línea temporal por año y por municipio: **gráfico de líneas**"
   ]
  },
  {
   "cell_type": "code",
   "execution_count": 20,
   "metadata": {},
   "outputs": [
    {
     "name": "stdout",
     "output_type": "stream",
     "text": [
      "           ADM2   Año  total_desastres_adm2\n",
      "0       Achuapa 2,000                     1\n",
      "1       Achuapa 2,012                     1\n",
      "2       Acoyapa 2,001                     1\n",
      "3       Acoyapa 2,013                     2\n",
      "4    Altagracia 1,996                     2\n",
      "..          ...   ...                   ...\n",
      "788      Wiwilí 2,008                     2\n",
      "789      Wiwilí 2,013                     1\n",
      "790   Yalagüina 1,992                     1\n",
      "791   Yalagüina 2,012                     1\n",
      "792   Yalagüina 2,013                     1\n",
      "\n",
      "[793 rows x 3 columns]\n"
     ]
    }
   ],
   "source": [
    "# Función para contar desastres por municipio y año\n",
    "def contar_desastres_por_municipio_anio(desastres):\n",
    "    # Agrupar por 'municipio' y 'año', y contar el número de desastres\n",
    "    conteo_desastres = desastres.groupby(['ADM2', 'Año']).size().reset_index(name='total_desastres_adm2')\n",
    "    # Ordenar por municipio y año\n",
    "    conteo_desastres = conteo_desastres.sort_values(by=['ADM2', 'Año'])\n",
    "    return conteo_desastres\n",
    "\n",
    "# Obtener el conteo de desastres por municipio y año\n",
    "conteo_desastres_municipio_anio = contar_desastres_por_municipio_anio(desastres)\n",
    "print(conteo_desastres_municipio_anio)"
   ]
  },
  {
   "cell_type": "code",
   "execution_count": null,
   "metadata": {},
   "outputs": [
    {
     "data": {
      "application/vnd.plotly.v1+json": {
       "config": {
        "plotlyServerURL": "https://plot.ly"
       },
       "data": [
        {
         "hovertemplate": "Municipio=Bilwi<br>Año=%{x}<br>Cantidad de desastres=%{y}<extra></extra>",
         "legendgroup": "Bilwi",
         "line": {
          "color": "#636efa",
          "dash": "solid"
         },
         "marker": {
          "symbol": "circle"
         },
         "mode": "lines+markers",
         "name": "Bilwi",
         "orientation": "v",
         "showlegend": true,
         "type": "scatter",
         "x": [
          1994,
          1996,
          2001,
          2002,
          2003,
          2004,
          2005,
          2007,
          2008,
          2009,
          2010,
          2011,
          2012,
          2013
         ],
         "xaxis": "x",
         "y": [
          1,
          1,
          3,
          1,
          1,
          1,
          1,
          4,
          7,
          3,
          2,
          2,
          2,
          5
         ],
         "yaxis": "y"
        },
        {
         "hovertemplate": "Municipio=Chinandega<br>Año=%{x}<br>Cantidad de desastres=%{y}<extra></extra>",
         "legendgroup": "Chinandega",
         "line": {
          "color": "#EF553B",
          "dash": "solid"
         },
         "marker": {
          "symbol": "circle"
         },
         "mode": "lines+markers",
         "name": "Chinandega",
         "orientation": "v",
         "showlegend": true,
         "type": "scatter",
         "x": [
          1992,
          1993,
          1994,
          1995,
          1996,
          1997,
          1998,
          1999,
          2000,
          2001,
          2006,
          2007,
          2008,
          2012,
          2013
         ],
         "xaxis": "x",
         "y": [
          1,
          2,
          4,
          1,
          2,
          1,
          1,
          1,
          3,
          1,
          1,
          3,
          1,
          6,
          12
         ],
         "yaxis": "y"
        },
        {
         "hovertemplate": "Municipio=El Viejo<br>Año=%{x}<br>Cantidad de desastres=%{y}<extra></extra>",
         "legendgroup": "El Viejo",
         "line": {
          "color": "#00cc96",
          "dash": "solid"
         },
         "marker": {
          "symbol": "circle"
         },
         "mode": "lines+markers",
         "name": "El Viejo",
         "orientation": "v",
         "showlegend": true,
         "type": "scatter",
         "x": [
          1992,
          1994,
          1995,
          1996,
          1997,
          1998,
          2000,
          2004,
          2005,
          2007,
          2009,
          2010,
          2011,
          2012,
          2013
         ],
         "xaxis": "x",
         "y": [
          1,
          1,
          2,
          3,
          2,
          3,
          1,
          1,
          3,
          2,
          3,
          2,
          1,
          2,
          3
         ],
         "yaxis": "y"
        },
        {
         "hovertemplate": "Municipio=Estelí<br>Año=%{x}<br>Cantidad de desastres=%{y}<extra></extra>",
         "legendgroup": "Estelí",
         "line": {
          "color": "#ab63fa",
          "dash": "solid"
         },
         "marker": {
          "symbol": "circle"
         },
         "mode": "lines+markers",
         "name": "Estelí",
         "orientation": "v",
         "showlegend": true,
         "type": "scatter",
         "x": [
          1992,
          1995,
          1996,
          2000,
          2001,
          2002,
          2003,
          2004,
          2005,
          2007,
          2008,
          2010,
          2011,
          2012,
          2013
         ],
         "xaxis": "x",
         "y": [
          1,
          4,
          2,
          1,
          1,
          2,
          1,
          1,
          2,
          3,
          2,
          2,
          2,
          6,
          7
         ],
         "yaxis": "y"
        },
        {
         "hovertemplate": "Municipio=Granada<br>Año=%{x}<br>Cantidad de desastres=%{y}<extra></extra>",
         "legendgroup": "Granada",
         "line": {
          "color": "#FFA15A",
          "dash": "solid"
         },
         "marker": {
          "symbol": "circle"
         },
         "mode": "lines+markers",
         "name": "Granada",
         "orientation": "v",
         "showlegend": true,
         "type": "scatter",
         "x": [
          1995,
          1996,
          1997,
          1998,
          1999,
          2000,
          2002,
          2003,
          2005,
          2007,
          2008,
          2009,
          2010,
          2011,
          2012,
          2013
         ],
         "xaxis": "x",
         "y": [
          1,
          2,
          1,
          1,
          1,
          4,
          1,
          3,
          3,
          5,
          4,
          1,
          5,
          3,
          3,
          6
         ],
         "yaxis": "y"
        },
        {
         "hovertemplate": "Municipio=Jinotega<br>Año=%{x}<br>Cantidad de desastres=%{y}<extra></extra>",
         "legendgroup": "Jinotega",
         "line": {
          "color": "#19d3f3",
          "dash": "solid"
         },
         "marker": {
          "symbol": "circle"
         },
         "mode": "lines+markers",
         "name": "Jinotega",
         "orientation": "v",
         "showlegend": true,
         "type": "scatter",
         "x": [
          1993,
          1995,
          1996,
          1997,
          2000,
          2001,
          2003,
          2005,
          2007,
          2008,
          2009,
          2010,
          2012,
          2013
         ],
         "xaxis": "x",
         "y": [
          1,
          3,
          3,
          1,
          1,
          1,
          2,
          3,
          3,
          2,
          2,
          2,
          6,
          12
         ],
         "yaxis": "y"
        },
        {
         "hovertemplate": "Municipio=León<br>Año=%{x}<br>Cantidad de desastres=%{y}<extra></extra>",
         "legendgroup": "León",
         "line": {
          "color": "#FF6692",
          "dash": "solid"
         },
         "marker": {
          "symbol": "circle"
         },
         "mode": "lines+markers",
         "name": "León",
         "orientation": "v",
         "showlegend": true,
         "type": "scatter",
         "x": [
          1992,
          1993,
          1994,
          1995,
          1996,
          1999,
          2000,
          2001,
          2004,
          2005,
          2006,
          2007,
          2008,
          2010,
          2012,
          2013
         ],
         "xaxis": "x",
         "y": [
          3,
          3,
          1,
          1,
          4,
          3,
          3,
          2,
          3,
          1,
          2,
          3,
          11,
          3,
          3,
          11
         ],
         "yaxis": "y"
        },
        {
         "hovertemplate": "Municipio=Managua<br>Año=%{x}<br>Cantidad de desastres=%{y}<extra></extra>",
         "legendgroup": "Managua",
         "line": {
          "color": "#B6E880",
          "dash": "solid"
         },
         "marker": {
          "symbol": "circle"
         },
         "mode": "lines+markers",
         "name": "Managua",
         "orientation": "v",
         "showlegend": true,
         "type": "scatter",
         "x": [
          1992,
          1993,
          1994,
          1995,
          1996,
          1997,
          1998,
          1999,
          2000,
          2001,
          2002,
          2003,
          2004,
          2005,
          2006,
          2007,
          2008,
          2009,
          2010,
          2011,
          2012,
          2013
         ],
         "xaxis": "x",
         "y": [
          2,
          3,
          2,
          8,
          4,
          5,
          5,
          3,
          15,
          11,
          4,
          3,
          2,
          4,
          4,
          10,
          13,
          9,
          8,
          20,
          15,
          18
         ],
         "yaxis": "y"
        },
        {
         "hovertemplate": "Municipio=Masaya<br>Año=%{x}<br>Cantidad de desastres=%{y}<extra></extra>",
         "legendgroup": "Masaya",
         "line": {
          "color": "#FF97FF",
          "dash": "solid"
         },
         "marker": {
          "symbol": "circle"
         },
         "mode": "lines+markers",
         "name": "Masaya",
         "orientation": "v",
         "showlegend": true,
         "type": "scatter",
         "x": [
          1995,
          1996,
          1997,
          1999,
          2000,
          2002,
          2003,
          2004,
          2005,
          2009,
          2011,
          2012,
          2013
         ],
         "xaxis": "x",
         "y": [
          2,
          3,
          2,
          1,
          2,
          1,
          1,
          2,
          1,
          2,
          1,
          3,
          10
         ],
         "yaxis": "y"
        },
        {
         "hovertemplate": "Municipio=Matagalpa<br>Año=%{x}<br>Cantidad de desastres=%{y}<extra></extra>",
         "legendgroup": "Matagalpa",
         "line": {
          "color": "#FECB52",
          "dash": "solid"
         },
         "marker": {
          "symbol": "circle"
         },
         "mode": "lines+markers",
         "name": "Matagalpa",
         "orientation": "v",
         "showlegend": true,
         "type": "scatter",
         "x": [
          1993,
          1994,
          1996,
          1997,
          1998,
          1999,
          2000,
          2001,
          2003,
          2005,
          2007,
          2008,
          2009,
          2010,
          2012,
          2013
         ],
         "xaxis": "x",
         "y": [
          1,
          1,
          3,
          2,
          3,
          2,
          1,
          1,
          2,
          1,
          5,
          4,
          1,
          1,
          3,
          3
         ],
         "yaxis": "y"
        }
       ],
       "layout": {
        "legend": {
         "title": {
          "text": "Municipio"
         },
         "tracegroupgap": 0
        },
        "template": {
         "data": {
          "bar": [
           {
            "error_x": {
             "color": "#2a3f5f"
            },
            "error_y": {
             "color": "#2a3f5f"
            },
            "marker": {
             "line": {
              "color": "white",
              "width": 0.5
             },
             "pattern": {
              "fillmode": "overlay",
              "size": 10,
              "solidity": 0.2
             }
            },
            "type": "bar"
           }
          ],
          "barpolar": [
           {
            "marker": {
             "line": {
              "color": "white",
              "width": 0.5
             },
             "pattern": {
              "fillmode": "overlay",
              "size": 10,
              "solidity": 0.2
             }
            },
            "type": "barpolar"
           }
          ],
          "carpet": [
           {
            "aaxis": {
             "endlinecolor": "#2a3f5f",
             "gridcolor": "#C8D4E3",
             "linecolor": "#C8D4E3",
             "minorgridcolor": "#C8D4E3",
             "startlinecolor": "#2a3f5f"
            },
            "baxis": {
             "endlinecolor": "#2a3f5f",
             "gridcolor": "#C8D4E3",
             "linecolor": "#C8D4E3",
             "minorgridcolor": "#C8D4E3",
             "startlinecolor": "#2a3f5f"
            },
            "type": "carpet"
           }
          ],
          "choropleth": [
           {
            "colorbar": {
             "outlinewidth": 0,
             "ticks": ""
            },
            "type": "choropleth"
           }
          ],
          "contour": [
           {
            "colorbar": {
             "outlinewidth": 0,
             "ticks": ""
            },
            "colorscale": [
             [
              0,
              "#0d0887"
             ],
             [
              0.1111111111111111,
              "#46039f"
             ],
             [
              0.2222222222222222,
              "#7201a8"
             ],
             [
              0.3333333333333333,
              "#9c179e"
             ],
             [
              0.4444444444444444,
              "#bd3786"
             ],
             [
              0.5555555555555556,
              "#d8576b"
             ],
             [
              0.6666666666666666,
              "#ed7953"
             ],
             [
              0.7777777777777778,
              "#fb9f3a"
             ],
             [
              0.8888888888888888,
              "#fdca26"
             ],
             [
              1,
              "#f0f921"
             ]
            ],
            "type": "contour"
           }
          ],
          "contourcarpet": [
           {
            "colorbar": {
             "outlinewidth": 0,
             "ticks": ""
            },
            "type": "contourcarpet"
           }
          ],
          "heatmap": [
           {
            "colorbar": {
             "outlinewidth": 0,
             "ticks": ""
            },
            "colorscale": [
             [
              0,
              "#0d0887"
             ],
             [
              0.1111111111111111,
              "#46039f"
             ],
             [
              0.2222222222222222,
              "#7201a8"
             ],
             [
              0.3333333333333333,
              "#9c179e"
             ],
             [
              0.4444444444444444,
              "#bd3786"
             ],
             [
              0.5555555555555556,
              "#d8576b"
             ],
             [
              0.6666666666666666,
              "#ed7953"
             ],
             [
              0.7777777777777778,
              "#fb9f3a"
             ],
             [
              0.8888888888888888,
              "#fdca26"
             ],
             [
              1,
              "#f0f921"
             ]
            ],
            "type": "heatmap"
           }
          ],
          "heatmapgl": [
           {
            "colorbar": {
             "outlinewidth": 0,
             "ticks": ""
            },
            "colorscale": [
             [
              0,
              "#0d0887"
             ],
             [
              0.1111111111111111,
              "#46039f"
             ],
             [
              0.2222222222222222,
              "#7201a8"
             ],
             [
              0.3333333333333333,
              "#9c179e"
             ],
             [
              0.4444444444444444,
              "#bd3786"
             ],
             [
              0.5555555555555556,
              "#d8576b"
             ],
             [
              0.6666666666666666,
              "#ed7953"
             ],
             [
              0.7777777777777778,
              "#fb9f3a"
             ],
             [
              0.8888888888888888,
              "#fdca26"
             ],
             [
              1,
              "#f0f921"
             ]
            ],
            "type": "heatmapgl"
           }
          ],
          "histogram": [
           {
            "marker": {
             "pattern": {
              "fillmode": "overlay",
              "size": 10,
              "solidity": 0.2
             }
            },
            "type": "histogram"
           }
          ],
          "histogram2d": [
           {
            "colorbar": {
             "outlinewidth": 0,
             "ticks": ""
            },
            "colorscale": [
             [
              0,
              "#0d0887"
             ],
             [
              0.1111111111111111,
              "#46039f"
             ],
             [
              0.2222222222222222,
              "#7201a8"
             ],
             [
              0.3333333333333333,
              "#9c179e"
             ],
             [
              0.4444444444444444,
              "#bd3786"
             ],
             [
              0.5555555555555556,
              "#d8576b"
             ],
             [
              0.6666666666666666,
              "#ed7953"
             ],
             [
              0.7777777777777778,
              "#fb9f3a"
             ],
             [
              0.8888888888888888,
              "#fdca26"
             ],
             [
              1,
              "#f0f921"
             ]
            ],
            "type": "histogram2d"
           }
          ],
          "histogram2dcontour": [
           {
            "colorbar": {
             "outlinewidth": 0,
             "ticks": ""
            },
            "colorscale": [
             [
              0,
              "#0d0887"
             ],
             [
              0.1111111111111111,
              "#46039f"
             ],
             [
              0.2222222222222222,
              "#7201a8"
             ],
             [
              0.3333333333333333,
              "#9c179e"
             ],
             [
              0.4444444444444444,
              "#bd3786"
             ],
             [
              0.5555555555555556,
              "#d8576b"
             ],
             [
              0.6666666666666666,
              "#ed7953"
             ],
             [
              0.7777777777777778,
              "#fb9f3a"
             ],
             [
              0.8888888888888888,
              "#fdca26"
             ],
             [
              1,
              "#f0f921"
             ]
            ],
            "type": "histogram2dcontour"
           }
          ],
          "mesh3d": [
           {
            "colorbar": {
             "outlinewidth": 0,
             "ticks": ""
            },
            "type": "mesh3d"
           }
          ],
          "parcoords": [
           {
            "line": {
             "colorbar": {
              "outlinewidth": 0,
              "ticks": ""
             }
            },
            "type": "parcoords"
           }
          ],
          "pie": [
           {
            "automargin": true,
            "type": "pie"
           }
          ],
          "scatter": [
           {
            "fillpattern": {
             "fillmode": "overlay",
             "size": 10,
             "solidity": 0.2
            },
            "type": "scatter"
           }
          ],
          "scatter3d": [
           {
            "line": {
             "colorbar": {
              "outlinewidth": 0,
              "ticks": ""
             }
            },
            "marker": {
             "colorbar": {
              "outlinewidth": 0,
              "ticks": ""
             }
            },
            "type": "scatter3d"
           }
          ],
          "scattercarpet": [
           {
            "marker": {
             "colorbar": {
              "outlinewidth": 0,
              "ticks": ""
             }
            },
            "type": "scattercarpet"
           }
          ],
          "scattergeo": [
           {
            "marker": {
             "colorbar": {
              "outlinewidth": 0,
              "ticks": ""
             }
            },
            "type": "scattergeo"
           }
          ],
          "scattergl": [
           {
            "marker": {
             "colorbar": {
              "outlinewidth": 0,
              "ticks": ""
             }
            },
            "type": "scattergl"
           }
          ],
          "scattermapbox": [
           {
            "marker": {
             "colorbar": {
              "outlinewidth": 0,
              "ticks": ""
             }
            },
            "type": "scattermapbox"
           }
          ],
          "scatterpolar": [
           {
            "marker": {
             "colorbar": {
              "outlinewidth": 0,
              "ticks": ""
             }
            },
            "type": "scatterpolar"
           }
          ],
          "scatterpolargl": [
           {
            "marker": {
             "colorbar": {
              "outlinewidth": 0,
              "ticks": ""
             }
            },
            "type": "scatterpolargl"
           }
          ],
          "scatterternary": [
           {
            "marker": {
             "colorbar": {
              "outlinewidth": 0,
              "ticks": ""
             }
            },
            "type": "scatterternary"
           }
          ],
          "surface": [
           {
            "colorbar": {
             "outlinewidth": 0,
             "ticks": ""
            },
            "colorscale": [
             [
              0,
              "#0d0887"
             ],
             [
              0.1111111111111111,
              "#46039f"
             ],
             [
              0.2222222222222222,
              "#7201a8"
             ],
             [
              0.3333333333333333,
              "#9c179e"
             ],
             [
              0.4444444444444444,
              "#bd3786"
             ],
             [
              0.5555555555555556,
              "#d8576b"
             ],
             [
              0.6666666666666666,
              "#ed7953"
             ],
             [
              0.7777777777777778,
              "#fb9f3a"
             ],
             [
              0.8888888888888888,
              "#fdca26"
             ],
             [
              1,
              "#f0f921"
             ]
            ],
            "type": "surface"
           }
          ],
          "table": [
           {
            "cells": {
             "fill": {
              "color": "#EBF0F8"
             },
             "line": {
              "color": "white"
             }
            },
            "header": {
             "fill": {
              "color": "#C8D4E3"
             },
             "line": {
              "color": "white"
             }
            },
            "type": "table"
           }
          ]
         },
         "layout": {
          "annotationdefaults": {
           "arrowcolor": "#2a3f5f",
           "arrowhead": 0,
           "arrowwidth": 1
          },
          "autotypenumbers": "strict",
          "coloraxis": {
           "colorbar": {
            "outlinewidth": 0,
            "ticks": ""
           }
          },
          "colorscale": {
           "diverging": [
            [
             0,
             "#8e0152"
            ],
            [
             0.1,
             "#c51b7d"
            ],
            [
             0.2,
             "#de77ae"
            ],
            [
             0.3,
             "#f1b6da"
            ],
            [
             0.4,
             "#fde0ef"
            ],
            [
             0.5,
             "#f7f7f7"
            ],
            [
             0.6,
             "#e6f5d0"
            ],
            [
             0.7,
             "#b8e186"
            ],
            [
             0.8,
             "#7fbc41"
            ],
            [
             0.9,
             "#4d9221"
            ],
            [
             1,
             "#276419"
            ]
           ],
           "sequential": [
            [
             0,
             "#0d0887"
            ],
            [
             0.1111111111111111,
             "#46039f"
            ],
            [
             0.2222222222222222,
             "#7201a8"
            ],
            [
             0.3333333333333333,
             "#9c179e"
            ],
            [
             0.4444444444444444,
             "#bd3786"
            ],
            [
             0.5555555555555556,
             "#d8576b"
            ],
            [
             0.6666666666666666,
             "#ed7953"
            ],
            [
             0.7777777777777778,
             "#fb9f3a"
            ],
            [
             0.8888888888888888,
             "#fdca26"
            ],
            [
             1,
             "#f0f921"
            ]
           ],
           "sequentialminus": [
            [
             0,
             "#0d0887"
            ],
            [
             0.1111111111111111,
             "#46039f"
            ],
            [
             0.2222222222222222,
             "#7201a8"
            ],
            [
             0.3333333333333333,
             "#9c179e"
            ],
            [
             0.4444444444444444,
             "#bd3786"
            ],
            [
             0.5555555555555556,
             "#d8576b"
            ],
            [
             0.6666666666666666,
             "#ed7953"
            ],
            [
             0.7777777777777778,
             "#fb9f3a"
            ],
            [
             0.8888888888888888,
             "#fdca26"
            ],
            [
             1,
             "#f0f921"
            ]
           ]
          },
          "colorway": [
           "#636efa",
           "#EF553B",
           "#00cc96",
           "#ab63fa",
           "#FFA15A",
           "#19d3f3",
           "#FF6692",
           "#B6E880",
           "#FF97FF",
           "#FECB52"
          ],
          "font": {
           "color": "#2a3f5f"
          },
          "geo": {
           "bgcolor": "white",
           "lakecolor": "white",
           "landcolor": "white",
           "showlakes": true,
           "showland": true,
           "subunitcolor": "#C8D4E3"
          },
          "hoverlabel": {
           "align": "left"
          },
          "hovermode": "closest",
          "mapbox": {
           "style": "light"
          },
          "paper_bgcolor": "white",
          "plot_bgcolor": "white",
          "polar": {
           "angularaxis": {
            "gridcolor": "#EBF0F8",
            "linecolor": "#EBF0F8",
            "ticks": ""
           },
           "bgcolor": "white",
           "radialaxis": {
            "gridcolor": "#EBF0F8",
            "linecolor": "#EBF0F8",
            "ticks": ""
           }
          },
          "scene": {
           "xaxis": {
            "backgroundcolor": "white",
            "gridcolor": "#DFE8F3",
            "gridwidth": 2,
            "linecolor": "#EBF0F8",
            "showbackground": true,
            "ticks": "",
            "zerolinecolor": "#EBF0F8"
           },
           "yaxis": {
            "backgroundcolor": "white",
            "gridcolor": "#DFE8F3",
            "gridwidth": 2,
            "linecolor": "#EBF0F8",
            "showbackground": true,
            "ticks": "",
            "zerolinecolor": "#EBF0F8"
           },
           "zaxis": {
            "backgroundcolor": "white",
            "gridcolor": "#DFE8F3",
            "gridwidth": 2,
            "linecolor": "#EBF0F8",
            "showbackground": true,
            "ticks": "",
            "zerolinecolor": "#EBF0F8"
           }
          },
          "shapedefaults": {
           "line": {
            "color": "#2a3f5f"
           }
          },
          "ternary": {
           "aaxis": {
            "gridcolor": "#DFE8F3",
            "linecolor": "#A2B1C6",
            "ticks": ""
           },
           "baxis": {
            "gridcolor": "#DFE8F3",
            "linecolor": "#A2B1C6",
            "ticks": ""
           },
           "bgcolor": "white",
           "caxis": {
            "gridcolor": "#DFE8F3",
            "linecolor": "#A2B1C6",
            "ticks": ""
           }
          },
          "title": {
           "x": 0.05
          },
          "xaxis": {
           "automargin": true,
           "gridcolor": "#EBF0F8",
           "linecolor": "#EBF0F8",
           "ticks": "",
           "title": {
            "standoff": 15
           },
           "zerolinecolor": "#EBF0F8",
           "zerolinewidth": 2
          },
          "yaxis": {
           "automargin": true,
           "gridcolor": "#EBF0F8",
           "linecolor": "#EBF0F8",
           "ticks": "",
           "title": {
            "standoff": 15
           },
           "zerolinecolor": "#EBF0F8",
           "zerolinewidth": 2
          }
         }
        },
        "title": {
         "font": {
          "size": 20
         },
         "text": "Evolución temporal de desastres en los 10 municipios más afectados de Nicaragua",
         "x": 0.5
        },
        "xaxis": {
         "anchor": "y",
         "domain": [
          0,
          1
         ],
         "gridcolor": "lightgray",
         "gridwidth": 0.5,
         "showgrid": true,
         "title": {
          "text": "Año"
         }
        },
        "yaxis": {
         "anchor": "x",
         "domain": [
          0,
          1
         ],
         "gridcolor": "lightgray",
         "gridwidth": 0.5,
         "showgrid": true,
         "title": {
          "text": "Cantidad de desastres"
         }
        }
       }
      }
     },
     "metadata": {},
     "output_type": "display_data"
    }
   ],
   "source": [
    "# Obtener el total de desastres por municipio\n",
    "total_desastres_por_municipio = conteo_desastres_municipio_anio.groupby('ADM2')['total_desastres_adm2'].sum().reset_index()\n",
    "\n",
    "# Seleccionar los 10 municipios con mayor cantidad de desastres\n",
    "top_10_municipios = total_desastres_por_municipio.nlargest(10, 'total_desastres_adm2')['ADM2']\n",
    "\n",
    "# Filtrar los datos para incluir solo los municipios del top 15\n",
    "conteo_top_10 = conteo_desastres_municipio_anio[conteo_desastres_municipio_anio['ADM2'].isin(top_10_municipios)]\n",
    "\n",
    "# Crear el gráfico de líneas con Plotly\n",
    "fig = px.line(conteo_top_10, x='Año', y='total_desastres_adm2', color='ADM2',\n",
    "              title='Evolución temporal de desastres en los 10 municipios más afectados de Nicaragua',\n",
    "              labels={'Año': 'Año', 'total_desastres_adm2': 'Cantidad de desastres', 'ADM2': 'Municipio'},\n",
    "              template='plotly_white',\n",
    "              markers=True)\n",
    "\n",
    "# Atributos de visualización de la figura\n",
    "fig.update_layout(\n",
    "    title=dict(\n",
    "        x=0.5,  # Centrar el título\n",
    "        font=dict(size=20)),\n",
    "    xaxis=dict(showgrid=True, gridwidth=0.5, gridcolor='lightgray'),\n",
    "    yaxis=dict(showgrid=True, gridwidth=0.5, gridcolor='lightgray')\n",
    ")\n",
    "\n",
    "fig.show()"
   ]
  },
  {
   "cell_type": "markdown",
   "metadata": {},
   "source": [
    "El gráfico de líneas anterior tiene la función de mostrar los patrones de cantidad de desastres por municipio. Es complementario al primero, pero con la ventaja de discernir cuáles partes de Nicaragua han sido más afectadas. Resalta Managua, León y Bilwi, municipios con alta población y cercanía a cuerpos de agua. Según la base de datos, Bilwi en la costa caribeña, ha sido afectado mayoritariamente por inundaciones y tormentas."
   ]
  },
  {
   "cell_type": "markdown",
   "metadata": {},
   "source": [
    "<p>"
   ]
  },
  {
   "cell_type": "markdown",
   "metadata": {},
   "source": [
    "### Los desastres más comunes: **gráfico de barras**"
   ]
  },
  {
   "cell_type": "code",
   "execution_count": null,
   "metadata": {},
   "outputs": [
    {
     "data": {
      "text/html": [
       "<div>\n",
       "<style scoped>\n",
       "    .dataframe tbody tr th:only-of-type {\n",
       "        vertical-align: middle;\n",
       "    }\n",
       "\n",
       "    .dataframe tbody tr th {\n",
       "        vertical-align: top;\n",
       "    }\n",
       "\n",
       "    .dataframe thead th {\n",
       "        text-align: right;\n",
       "    }\n",
       "</style>\n",
       "<table border=\"1\" class=\"dataframe\">\n",
       "  <thead>\n",
       "    <tr style=\"text-align: right;\">\n",
       "      <th></th>\n",
       "      <th>Evento</th>\n",
       "      <th>Total_Desastres</th>\n",
       "    </tr>\n",
       "  </thead>\n",
       "  <tbody>\n",
       "    <tr>\n",
       "      <th>2</th>\n",
       "      <td>Sequía</td>\n",
       "      <td>112</td>\n",
       "    </tr>\n",
       "    <tr>\n",
       "      <th>5</th>\n",
       "      <td>Avalancha</td>\n",
       "      <td>83</td>\n",
       "    </tr>\n",
       "    <tr>\n",
       "      <th>7</th>\n",
       "      <td>Lluvia</td>\n",
       "      <td>54</td>\n",
       "    </tr>\n",
       "    <tr>\n",
       "      <th>6</th>\n",
       "      <td>Contaminación</td>\n",
       "      <td>58</td>\n",
       "    </tr>\n",
       "    <tr>\n",
       "      <th>0</th>\n",
       "      <td>Inundación</td>\n",
       "      <td>467</td>\n",
       "    </tr>\n",
       "  </tbody>\n",
       "</table>\n",
       "</div>"
      ],
      "text/plain": [
       "          Evento  Total_Desastres\n",
       "2         Sequía              112\n",
       "5      Avalancha               83\n",
       "7         Lluvia               54\n",
       "6  Contaminación               58\n",
       "0     Inundación              467"
      ]
     },
     "execution_count": 8,
     "metadata": {},
     "output_type": "execute_result"
    }
   ],
   "source": [
    "# Contar los desastres por tipo de evento\n",
    "def obtener_top_eventos(df, top_n=10):\n",
    "    conteo_evento = df['Evento'].value_counts().reset_index()\n",
    "    conteo_evento.columns = ['Evento', 'Total_Desastres']\n",
    "    # Seleccionar los top_n eventos con mayor cantidad de desastres\n",
    "    top_eventos = conteo_evento.nlargest(top_n, 'Total_Desastres')\n",
    "    return top_eventos\n",
    "\n",
    "# Obtener los 10 tipos de desastres con mayor cantidad\n",
    "top_10_eventos = obtener_top_eventos(desastres)\n",
    "\n",
    "\n",
    "# Traducción de términos con un diccionario de traducciones\n",
    "traducciones = {'LANDSLIDE': 'Deslizamiento', \n",
    "                'STRONGWIND': 'Vientos fuertes', \n",
    "                'RAIN': 'Lluvia', \n",
    "                'POLLUTION': 'Contaminación',\n",
    "                'SPATE': 'Avalancha',\n",
    "                'FORESTFIRE': 'Incendio forestal',\n",
    "                'EPIDEMIC': 'Epidemia',\n",
    "                'DROUGHT': 'Sequía',\n",
    "                'FIRE': 'Incendio',\n",
    "                'FLOOD': 'Inundación'\n",
    "}\n",
    "\n",
    "# Reemplazar celdas en la columna 'Evento' con los valores del diccionario\n",
    "top_10_eventos['Evento'] = top_10_eventos['Evento'].replace(traducciones)\n",
    "\n",
    "top_10_eventos.sample(5)\n"
   ]
  },
  {
   "cell_type": "code",
   "execution_count": 9,
   "metadata": {},
   "outputs": [
    {
     "data": {
      "application/vnd.plotly.v1+json": {
       "config": {
        "plotlyServerURL": "https://plot.ly"
       },
       "data": [
        {
         "alignmentgroup": "True",
         "hovertemplate": "Tipo de desastre=%{x}<br>Cantidad de desastres=%{y}<extra></extra>",
         "legendgroup": "Inundación",
         "marker": {
          "color": "rgb(41, 24, 107)",
          "pattern": {
           "shape": ""
          }
         },
         "name": "Inundación",
         "offsetgroup": "Inundación",
         "orientation": "v",
         "showlegend": true,
         "textposition": "auto",
         "type": "bar",
         "x": [
          "Inundación"
         ],
         "xaxis": "x",
         "y": [
          467
         ],
         "yaxis": "y"
        },
        {
         "alignmentgroup": "True",
         "hovertemplate": "Tipo de desastre=%{x}<br>Cantidad de desastres=%{y}<extra></extra>",
         "legendgroup": "Incendio",
         "marker": {
          "color": "rgb(42, 35, 160)",
          "pattern": {
           "shape": ""
          }
         },
         "name": "Incendio",
         "offsetgroup": "Incendio",
         "orientation": "v",
         "showlegend": true,
         "textposition": "auto",
         "type": "bar",
         "x": [
          "Incendio"
         ],
         "xaxis": "x",
         "y": [
          116
         ],
         "yaxis": "y"
        },
        {
         "alignmentgroup": "True",
         "hovertemplate": "Tipo de desastre=%{x}<br>Cantidad de desastres=%{y}<extra></extra>",
         "legendgroup": "Sequía",
         "marker": {
          "color": "rgb(15, 71, 153)",
          "pattern": {
           "shape": ""
          }
         },
         "name": "Sequía",
         "offsetgroup": "Sequía",
         "orientation": "v",
         "showlegend": true,
         "textposition": "auto",
         "type": "bar",
         "x": [
          "Sequía"
         ],
         "xaxis": "x",
         "y": [
          112
         ],
         "yaxis": "y"
        },
        {
         "alignmentgroup": "True",
         "hovertemplate": "Tipo de desastre=%{x}<br>Cantidad de desastres=%{y}<extra></extra>",
         "legendgroup": "Epidemia",
         "marker": {
          "color": "rgb(18, 95, 142)",
          "pattern": {
           "shape": ""
          }
         },
         "name": "Epidemia",
         "offsetgroup": "Epidemia",
         "orientation": "v",
         "showlegend": true,
         "textposition": "auto",
         "type": "bar",
         "x": [
          "Epidemia"
         ],
         "xaxis": "x",
         "y": [
          97
         ],
         "yaxis": "y"
        },
        {
         "alignmentgroup": "True",
         "hovertemplate": "Tipo de desastre=%{x}<br>Cantidad de desastres=%{y}<extra></extra>",
         "legendgroup": "Incendio forestal",
         "marker": {
          "color": "rgb(38, 116, 137)",
          "pattern": {
           "shape": ""
          }
         },
         "name": "Incendio forestal",
         "offsetgroup": "Incendio forestal",
         "orientation": "v",
         "showlegend": true,
         "textposition": "auto",
         "type": "bar",
         "x": [
          "Incendio forestal"
         ],
         "xaxis": "x",
         "y": [
          87
         ],
         "yaxis": "y"
        },
        {
         "alignmentgroup": "True",
         "hovertemplate": "Tipo de desastre=%{x}<br>Cantidad de desastres=%{y}<extra></extra>",
         "legendgroup": "Avalancha",
         "marker": {
          "color": "rgb(53, 136, 136)",
          "pattern": {
           "shape": ""
          }
         },
         "name": "Avalancha",
         "offsetgroup": "Avalancha",
         "orientation": "v",
         "showlegend": true,
         "textposition": "auto",
         "type": "bar",
         "x": [
          "Avalancha"
         ],
         "xaxis": "x",
         "y": [
          83
         ],
         "yaxis": "y"
        },
        {
         "alignmentgroup": "True",
         "hovertemplate": "Tipo de desastre=%{x}<br>Cantidad de desastres=%{y}<extra></extra>",
         "legendgroup": "Contaminación",
         "marker": {
          "color": "rgb(65, 157, 133)",
          "pattern": {
           "shape": ""
          }
         },
         "name": "Contaminación",
         "offsetgroup": "Contaminación",
         "orientation": "v",
         "showlegend": true,
         "textposition": "auto",
         "type": "bar",
         "x": [
          "Contaminación"
         ],
         "xaxis": "x",
         "y": [
          58
         ],
         "yaxis": "y"
        },
        {
         "alignmentgroup": "True",
         "hovertemplate": "Tipo de desastre=%{x}<br>Cantidad de desastres=%{y}<extra></extra>",
         "legendgroup": "Lluvia",
         "marker": {
          "color": "rgb(81, 178, 124)",
          "pattern": {
           "shape": ""
          }
         },
         "name": "Lluvia",
         "offsetgroup": "Lluvia",
         "orientation": "v",
         "showlegend": true,
         "textposition": "auto",
         "type": "bar",
         "x": [
          "Lluvia"
         ],
         "xaxis": "x",
         "y": [
          54
         ],
         "yaxis": "y"
        },
        {
         "alignmentgroup": "True",
         "hovertemplate": "Tipo de desastre=%{x}<br>Cantidad de desastres=%{y}<extra></extra>",
         "legendgroup": "Vientos fuertes",
         "marker": {
          "color": "rgb(111, 198, 107)",
          "pattern": {
           "shape": ""
          }
         },
         "name": "Vientos fuertes",
         "offsetgroup": "Vientos fuertes",
         "orientation": "v",
         "showlegend": true,
         "textposition": "auto",
         "type": "bar",
         "x": [
          "Vientos fuertes"
         ],
         "xaxis": "x",
         "y": [
          48
         ],
         "yaxis": "y"
        },
        {
         "alignmentgroup": "True",
         "hovertemplate": "Tipo de desastre=%{x}<br>Cantidad de desastres=%{y}<extra></extra>",
         "legendgroup": "Deslizamiento",
         "marker": {
          "color": "rgb(160, 214, 91)",
          "pattern": {
           "shape": ""
          }
         },
         "name": "Deslizamiento",
         "offsetgroup": "Deslizamiento",
         "orientation": "v",
         "showlegend": true,
         "textposition": "auto",
         "type": "bar",
         "x": [
          "Deslizamiento"
         ],
         "xaxis": "x",
         "y": [
          47
         ],
         "yaxis": "y"
        }
       ],
       "layout": {
        "barmode": "relative",
        "legend": {
         "title": {
          "text": "Tipo de desastre"
         },
         "tracegroupgap": 0
        },
        "template": {
         "data": {
          "bar": [
           {
            "error_x": {
             "color": "#2a3f5f"
            },
            "error_y": {
             "color": "#2a3f5f"
            },
            "marker": {
             "line": {
              "color": "white",
              "width": 0.5
             },
             "pattern": {
              "fillmode": "overlay",
              "size": 10,
              "solidity": 0.2
             }
            },
            "type": "bar"
           }
          ],
          "barpolar": [
           {
            "marker": {
             "line": {
              "color": "white",
              "width": 0.5
             },
             "pattern": {
              "fillmode": "overlay",
              "size": 10,
              "solidity": 0.2
             }
            },
            "type": "barpolar"
           }
          ],
          "carpet": [
           {
            "aaxis": {
             "endlinecolor": "#2a3f5f",
             "gridcolor": "#C8D4E3",
             "linecolor": "#C8D4E3",
             "minorgridcolor": "#C8D4E3",
             "startlinecolor": "#2a3f5f"
            },
            "baxis": {
             "endlinecolor": "#2a3f5f",
             "gridcolor": "#C8D4E3",
             "linecolor": "#C8D4E3",
             "minorgridcolor": "#C8D4E3",
             "startlinecolor": "#2a3f5f"
            },
            "type": "carpet"
           }
          ],
          "choropleth": [
           {
            "colorbar": {
             "outlinewidth": 0,
             "ticks": ""
            },
            "type": "choropleth"
           }
          ],
          "contour": [
           {
            "colorbar": {
             "outlinewidth": 0,
             "ticks": ""
            },
            "colorscale": [
             [
              0,
              "#0d0887"
             ],
             [
              0.1111111111111111,
              "#46039f"
             ],
             [
              0.2222222222222222,
              "#7201a8"
             ],
             [
              0.3333333333333333,
              "#9c179e"
             ],
             [
              0.4444444444444444,
              "#bd3786"
             ],
             [
              0.5555555555555556,
              "#d8576b"
             ],
             [
              0.6666666666666666,
              "#ed7953"
             ],
             [
              0.7777777777777778,
              "#fb9f3a"
             ],
             [
              0.8888888888888888,
              "#fdca26"
             ],
             [
              1,
              "#f0f921"
             ]
            ],
            "type": "contour"
           }
          ],
          "contourcarpet": [
           {
            "colorbar": {
             "outlinewidth": 0,
             "ticks": ""
            },
            "type": "contourcarpet"
           }
          ],
          "heatmap": [
           {
            "colorbar": {
             "outlinewidth": 0,
             "ticks": ""
            },
            "colorscale": [
             [
              0,
              "#0d0887"
             ],
             [
              0.1111111111111111,
              "#46039f"
             ],
             [
              0.2222222222222222,
              "#7201a8"
             ],
             [
              0.3333333333333333,
              "#9c179e"
             ],
             [
              0.4444444444444444,
              "#bd3786"
             ],
             [
              0.5555555555555556,
              "#d8576b"
             ],
             [
              0.6666666666666666,
              "#ed7953"
             ],
             [
              0.7777777777777778,
              "#fb9f3a"
             ],
             [
              0.8888888888888888,
              "#fdca26"
             ],
             [
              1,
              "#f0f921"
             ]
            ],
            "type": "heatmap"
           }
          ],
          "heatmapgl": [
           {
            "colorbar": {
             "outlinewidth": 0,
             "ticks": ""
            },
            "colorscale": [
             [
              0,
              "#0d0887"
             ],
             [
              0.1111111111111111,
              "#46039f"
             ],
             [
              0.2222222222222222,
              "#7201a8"
             ],
             [
              0.3333333333333333,
              "#9c179e"
             ],
             [
              0.4444444444444444,
              "#bd3786"
             ],
             [
              0.5555555555555556,
              "#d8576b"
             ],
             [
              0.6666666666666666,
              "#ed7953"
             ],
             [
              0.7777777777777778,
              "#fb9f3a"
             ],
             [
              0.8888888888888888,
              "#fdca26"
             ],
             [
              1,
              "#f0f921"
             ]
            ],
            "type": "heatmapgl"
           }
          ],
          "histogram": [
           {
            "marker": {
             "pattern": {
              "fillmode": "overlay",
              "size": 10,
              "solidity": 0.2
             }
            },
            "type": "histogram"
           }
          ],
          "histogram2d": [
           {
            "colorbar": {
             "outlinewidth": 0,
             "ticks": ""
            },
            "colorscale": [
             [
              0,
              "#0d0887"
             ],
             [
              0.1111111111111111,
              "#46039f"
             ],
             [
              0.2222222222222222,
              "#7201a8"
             ],
             [
              0.3333333333333333,
              "#9c179e"
             ],
             [
              0.4444444444444444,
              "#bd3786"
             ],
             [
              0.5555555555555556,
              "#d8576b"
             ],
             [
              0.6666666666666666,
              "#ed7953"
             ],
             [
              0.7777777777777778,
              "#fb9f3a"
             ],
             [
              0.8888888888888888,
              "#fdca26"
             ],
             [
              1,
              "#f0f921"
             ]
            ],
            "type": "histogram2d"
           }
          ],
          "histogram2dcontour": [
           {
            "colorbar": {
             "outlinewidth": 0,
             "ticks": ""
            },
            "colorscale": [
             [
              0,
              "#0d0887"
             ],
             [
              0.1111111111111111,
              "#46039f"
             ],
             [
              0.2222222222222222,
              "#7201a8"
             ],
             [
              0.3333333333333333,
              "#9c179e"
             ],
             [
              0.4444444444444444,
              "#bd3786"
             ],
             [
              0.5555555555555556,
              "#d8576b"
             ],
             [
              0.6666666666666666,
              "#ed7953"
             ],
             [
              0.7777777777777778,
              "#fb9f3a"
             ],
             [
              0.8888888888888888,
              "#fdca26"
             ],
             [
              1,
              "#f0f921"
             ]
            ],
            "type": "histogram2dcontour"
           }
          ],
          "mesh3d": [
           {
            "colorbar": {
             "outlinewidth": 0,
             "ticks": ""
            },
            "type": "mesh3d"
           }
          ],
          "parcoords": [
           {
            "line": {
             "colorbar": {
              "outlinewidth": 0,
              "ticks": ""
             }
            },
            "type": "parcoords"
           }
          ],
          "pie": [
           {
            "automargin": true,
            "type": "pie"
           }
          ],
          "scatter": [
           {
            "fillpattern": {
             "fillmode": "overlay",
             "size": 10,
             "solidity": 0.2
            },
            "type": "scatter"
           }
          ],
          "scatter3d": [
           {
            "line": {
             "colorbar": {
              "outlinewidth": 0,
              "ticks": ""
             }
            },
            "marker": {
             "colorbar": {
              "outlinewidth": 0,
              "ticks": ""
             }
            },
            "type": "scatter3d"
           }
          ],
          "scattercarpet": [
           {
            "marker": {
             "colorbar": {
              "outlinewidth": 0,
              "ticks": ""
             }
            },
            "type": "scattercarpet"
           }
          ],
          "scattergeo": [
           {
            "marker": {
             "colorbar": {
              "outlinewidth": 0,
              "ticks": ""
             }
            },
            "type": "scattergeo"
           }
          ],
          "scattergl": [
           {
            "marker": {
             "colorbar": {
              "outlinewidth": 0,
              "ticks": ""
             }
            },
            "type": "scattergl"
           }
          ],
          "scattermapbox": [
           {
            "marker": {
             "colorbar": {
              "outlinewidth": 0,
              "ticks": ""
             }
            },
            "type": "scattermapbox"
           }
          ],
          "scatterpolar": [
           {
            "marker": {
             "colorbar": {
              "outlinewidth": 0,
              "ticks": ""
             }
            },
            "type": "scatterpolar"
           }
          ],
          "scatterpolargl": [
           {
            "marker": {
             "colorbar": {
              "outlinewidth": 0,
              "ticks": ""
             }
            },
            "type": "scatterpolargl"
           }
          ],
          "scatterternary": [
           {
            "marker": {
             "colorbar": {
              "outlinewidth": 0,
              "ticks": ""
             }
            },
            "type": "scatterternary"
           }
          ],
          "surface": [
           {
            "colorbar": {
             "outlinewidth": 0,
             "ticks": ""
            },
            "colorscale": [
             [
              0,
              "#0d0887"
             ],
             [
              0.1111111111111111,
              "#46039f"
             ],
             [
              0.2222222222222222,
              "#7201a8"
             ],
             [
              0.3333333333333333,
              "#9c179e"
             ],
             [
              0.4444444444444444,
              "#bd3786"
             ],
             [
              0.5555555555555556,
              "#d8576b"
             ],
             [
              0.6666666666666666,
              "#ed7953"
             ],
             [
              0.7777777777777778,
              "#fb9f3a"
             ],
             [
              0.8888888888888888,
              "#fdca26"
             ],
             [
              1,
              "#f0f921"
             ]
            ],
            "type": "surface"
           }
          ],
          "table": [
           {
            "cells": {
             "fill": {
              "color": "#EBF0F8"
             },
             "line": {
              "color": "white"
             }
            },
            "header": {
             "fill": {
              "color": "#C8D4E3"
             },
             "line": {
              "color": "white"
             }
            },
            "type": "table"
           }
          ]
         },
         "layout": {
          "annotationdefaults": {
           "arrowcolor": "#2a3f5f",
           "arrowhead": 0,
           "arrowwidth": 1
          },
          "autotypenumbers": "strict",
          "coloraxis": {
           "colorbar": {
            "outlinewidth": 0,
            "ticks": ""
           }
          },
          "colorscale": {
           "diverging": [
            [
             0,
             "#8e0152"
            ],
            [
             0.1,
             "#c51b7d"
            ],
            [
             0.2,
             "#de77ae"
            ],
            [
             0.3,
             "#f1b6da"
            ],
            [
             0.4,
             "#fde0ef"
            ],
            [
             0.5,
             "#f7f7f7"
            ],
            [
             0.6,
             "#e6f5d0"
            ],
            [
             0.7,
             "#b8e186"
            ],
            [
             0.8,
             "#7fbc41"
            ],
            [
             0.9,
             "#4d9221"
            ],
            [
             1,
             "#276419"
            ]
           ],
           "sequential": [
            [
             0,
             "#0d0887"
            ],
            [
             0.1111111111111111,
             "#46039f"
            ],
            [
             0.2222222222222222,
             "#7201a8"
            ],
            [
             0.3333333333333333,
             "#9c179e"
            ],
            [
             0.4444444444444444,
             "#bd3786"
            ],
            [
             0.5555555555555556,
             "#d8576b"
            ],
            [
             0.6666666666666666,
             "#ed7953"
            ],
            [
             0.7777777777777778,
             "#fb9f3a"
            ],
            [
             0.8888888888888888,
             "#fdca26"
            ],
            [
             1,
             "#f0f921"
            ]
           ],
           "sequentialminus": [
            [
             0,
             "#0d0887"
            ],
            [
             0.1111111111111111,
             "#46039f"
            ],
            [
             0.2222222222222222,
             "#7201a8"
            ],
            [
             0.3333333333333333,
             "#9c179e"
            ],
            [
             0.4444444444444444,
             "#bd3786"
            ],
            [
             0.5555555555555556,
             "#d8576b"
            ],
            [
             0.6666666666666666,
             "#ed7953"
            ],
            [
             0.7777777777777778,
             "#fb9f3a"
            ],
            [
             0.8888888888888888,
             "#fdca26"
            ],
            [
             1,
             "#f0f921"
            ]
           ]
          },
          "colorway": [
           "#636efa",
           "#EF553B",
           "#00cc96",
           "#ab63fa",
           "#FFA15A",
           "#19d3f3",
           "#FF6692",
           "#B6E880",
           "#FF97FF",
           "#FECB52"
          ],
          "font": {
           "color": "#2a3f5f"
          },
          "geo": {
           "bgcolor": "white",
           "lakecolor": "white",
           "landcolor": "white",
           "showlakes": true,
           "showland": true,
           "subunitcolor": "#C8D4E3"
          },
          "hoverlabel": {
           "align": "left"
          },
          "hovermode": "closest",
          "mapbox": {
           "style": "light"
          },
          "paper_bgcolor": "white",
          "plot_bgcolor": "white",
          "polar": {
           "angularaxis": {
            "gridcolor": "#EBF0F8",
            "linecolor": "#EBF0F8",
            "ticks": ""
           },
           "bgcolor": "white",
           "radialaxis": {
            "gridcolor": "#EBF0F8",
            "linecolor": "#EBF0F8",
            "ticks": ""
           }
          },
          "scene": {
           "xaxis": {
            "backgroundcolor": "white",
            "gridcolor": "#DFE8F3",
            "gridwidth": 2,
            "linecolor": "#EBF0F8",
            "showbackground": true,
            "ticks": "",
            "zerolinecolor": "#EBF0F8"
           },
           "yaxis": {
            "backgroundcolor": "white",
            "gridcolor": "#DFE8F3",
            "gridwidth": 2,
            "linecolor": "#EBF0F8",
            "showbackground": true,
            "ticks": "",
            "zerolinecolor": "#EBF0F8"
           },
           "zaxis": {
            "backgroundcolor": "white",
            "gridcolor": "#DFE8F3",
            "gridwidth": 2,
            "linecolor": "#EBF0F8",
            "showbackground": true,
            "ticks": "",
            "zerolinecolor": "#EBF0F8"
           }
          },
          "shapedefaults": {
           "line": {
            "color": "#2a3f5f"
           }
          },
          "ternary": {
           "aaxis": {
            "gridcolor": "#DFE8F3",
            "linecolor": "#A2B1C6",
            "ticks": ""
           },
           "baxis": {
            "gridcolor": "#DFE8F3",
            "linecolor": "#A2B1C6",
            "ticks": ""
           },
           "bgcolor": "white",
           "caxis": {
            "gridcolor": "#DFE8F3",
            "linecolor": "#A2B1C6",
            "ticks": ""
           }
          },
          "title": {
           "x": 0.05
          },
          "xaxis": {
           "automargin": true,
           "gridcolor": "#EBF0F8",
           "linecolor": "#EBF0F8",
           "ticks": "",
           "title": {
            "standoff": 15
           },
           "zerolinecolor": "#EBF0F8",
           "zerolinewidth": 2
          },
          "yaxis": {
           "automargin": true,
           "gridcolor": "#EBF0F8",
           "linecolor": "#EBF0F8",
           "ticks": "",
           "title": {
            "standoff": 15
           },
           "zerolinecolor": "#EBF0F8",
           "zerolinewidth": 2
          }
         }
        },
        "title": {
         "font": {
          "size": 20
         },
         "text": "Top 10 de desastres por tipo de evento (Nicaragua: 1992-2013)",
         "x": 0.5
        },
        "xaxis": {
         "anchor": "y",
         "categoryarray": [
          "Inundación",
          "Incendio",
          "Sequía",
          "Epidemia",
          "Incendio forestal",
          "Avalancha",
          "Contaminación",
          "Lluvia",
          "Vientos fuertes",
          "Deslizamiento"
         ],
         "categoryorder": "total ascending",
         "domain": [
          0,
          1
         ],
         "title": {
          "text": "Tipo de desastre"
         }
        },
        "yaxis": {
         "anchor": "x",
         "domain": [
          0,
          1
         ],
         "gridcolor": "lightgray",
         "gridwidth": 0.5,
         "showgrid": true,
         "title": {
          "text": "Cantidad de desastres"
         }
        }
       }
      }
     },
     "metadata": {},
     "output_type": "display_data"
    }
   ],
   "source": [
    "# Crear el gráfico de barras con Plotly\n",
    "fig = px.bar(top_10_eventos, x='Evento', y='Total_Desastres',\n",
    "             title='Top 10 de desastres por tipo de evento (Nicaragua: 1992-2013)',\n",
    "             labels={'Evento': 'Tipo de desastre', 'Total_Desastres': 'Cantidad de desastres'},\n",
    "             template='plotly_white',\n",
    "             color='Evento', color_discrete_sequence=px.colors.sequential.haline)\n",
    "\n",
    "# Atributos de visualización de la figura\n",
    "fig.update_layout(\n",
    "    title=dict(\n",
    "        x=0.5,  # Centrar el título\n",
    "        font=dict(size=20)),\n",
    "    xaxis={'categoryorder':'total ascending'},\n",
    "    yaxis=dict(showgrid=True, gridwidth=0.5, gridcolor='lightgray')\n",
    ")\n",
    "\n",
    "fig.show()"
   ]
  },
  {
   "cell_type": "markdown",
   "metadata": {},
   "source": [
    "El último gráfico tiene el objetivo de evidenciar cuáles han sido los desastres más recurrentes: inundaciones, incendios y sequías. Esos tres dsastres suman un total de 695 desastres entre 1992 y 2013. Según el INETER (2018), Nicaragua se puede catalogar como uno de los países con mayor riesgo a desastres por su \"conformación geológica, estructura morfológica, ubicación en el istmo Centroamericano, cuencas hidrográficas, régimen de las lluvias, [...] la distribución y desarrollo económico, social y cultural de la población\". El mismo instito indica que hay una alta susceptibilidad a inundaciones, huracanes, deslizamientos, sismos, erupciones volcánicas, sequías, tsunamis e incendios forestales; y que esto se junta con el grado de exposición de la población y las vulnerabilidades socioeconómicas. Por lo tanto, el gráfico de barras generado con datos de la base DesInventar ayuda a cuantificar cuáles han sido los eventos que más han ocurrido y potencialmente afectado a la población."
   ]
  },
  {
   "cell_type": "markdown",
   "metadata": {},
   "source": [
    "------"
   ]
  },
  {
   "cell_type": "markdown",
   "metadata": {},
   "source": [
    "### Referencias bibliográficas\n",
    "- INETER. (2018). Portal de Mapas Interactivos de Vulnerabilidades y Amenazas Naturales. _Ineter.gob.ni._ https://www.ineter.gob.ni/geoportales/vulnerabilidades-amenazas/index.html\n",
    "\n",
    "- OCHA. (2008, 30 de mayo). Nicaragua: Tormenta ALMA afecta la zona del occidente. _ReliefWeb._ https://reliefweb.int/report/nicaragua/nicaragua-tormenta-alma-afecta-la-zona-del-occidente\n",
    "\n",
    "\n",
    "‌\n",
    "\n",
    "‌"
   ]
  }
 ],
 "metadata": {
  "kernelspec": {
   "display_name": "geopython",
   "language": "python",
   "name": "python3"
  },
  "language_info": {
   "codemirror_mode": {
    "name": "ipython",
    "version": 3
   },
   "file_extension": ".py",
   "mimetype": "text/x-python",
   "name": "python",
   "nbconvert_exporter": "python",
   "pygments_lexer": "ipython3",
   "version": "3.11.9"
  }
 },
 "nbformat": 4,
 "nbformat_minor": 2
}
